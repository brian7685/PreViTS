{
 "cells": [
  {
   "cell_type": "code",
   "execution_count": 5,
   "id": "biblical-nothing",
   "metadata": {},
   "outputs": [],
   "source": [
    "from collections import defaultdict\n",
    "v_dict = defaultdict(list)\n",
    "\n",
    "file1 = open('/export/home/RSPNet/meta_data/vgg_train_path.txt')\n",
    "\n",
    "for line in file1:\n",
    "    class_name = line.split('/')[-2]\n",
    "    vid = line.split('/')[-1].split('.')[0]\n",
    "    v_dict[class_name].append(vid)\n",
    "    #print(class_name,vid)\n",
    "    #break"
   ]
  },
  {
   "cell_type": "code",
   "execution_count": 71,
   "id": "framed-release",
   "metadata": {},
   "outputs": [],
   "source": [
    "#file2.close()\n",
    "file2 = open('/export/optical-flow/RSPNet/meta_data/vgg_train_RSP_path.txt','w')\n",
    "import os\n",
    "\n",
    "for name in glob('data/vgg_sound_RSP_op/train_video/*/*'):\n",
    "    #print(name)\n",
    "    file2.write(name+'\\n')\n",
    "file2.close()\n"
   ]
  },
  {
   "cell_type": "code",
   "execution_count": 29,
   "id": "visible-significance",
   "metadata": {},
   "outputs": [],
   "source": [
    "from glob import glob\n",
    "file2 = open('/export/home/RSPNet/meta_data/vgg_seg_path.txt','w')\n",
    "\n",
    "for name in glob('/export/home/b_data/vgg_sound-256/seg/train_split/*/*'):\n",
    "    #print(name)\n",
    "    file2.write(name+'\\n')"
   ]
  },
  {
   "cell_type": "code",
   "execution_count": 2,
   "id": "latest-penetration",
   "metadata": {},
   "outputs": [],
   "source": [
    "from glob import glob\n",
    "file2 = open('/export/optical-flow/RSPNet/meta_data/vgg_frame_path.txt','w')\n",
    "name_list =[]\n",
    "for name in glob('/export/home/b_data/vgg_sound-256/frame_new/train_split/*/*'):\n",
    "    #print(name)\n",
    "    name_list.append(name)\n",
    "name_list = sorted(name_list)\n",
    "for name in name_list:\n",
    "    file2.write(name+'\\n')\n",
    "file2.close()"
   ]
  },
  {
   "cell_type": "code",
   "execution_count": 5,
   "id": "ahead-trading",
   "metadata": {},
   "outputs": [],
   "source": [
    "from glob import glob\n",
    "file2 = open('/export/optical-flow/RSPNet/meta_data/vgg_frame_path_test.txt','w')\n",
    "name_list = []\n",
    "for name in glob('/export/home/b_data/vgg_sound-256/frame_new/test_split/*/*'):\n",
    "    #print(name)\n",
    "    name_list.append(name)\n",
    "name_list = sorted(name_list)\n",
    "for name in name_list:\n",
    "    file2.write(name+'\\n')\n",
    "    #file2.write(name+'\\n')\n",
    "file2.close()"
   ]
  },
  {
   "cell_type": "code",
   "execution_count": 56,
   "id": "overhead-fortune",
   "metadata": {},
   "outputs": [],
   "source": [
    "file2 = open('/export/home/RSPNet/meta_data/vgg_seg_meta_path.txt','w')\n",
    "\n",
    "for name in glob('/export/optical-flow/RSPNet/meta_data/vgg_train_0811/*/*'):\n",
    "    #print(name)\n",
    "    file2.write(name+'\\n')"
   ]
  },
  {
   "cell_type": "code",
   "execution_count": 30,
   "id": "stylish-recording",
   "metadata": {},
   "outputs": [],
   "source": [
    "file3 = open('/export/home/RSPNet/meta_data/vgg_seg_path.txt')\n",
    "seg_dict = defaultdict(list)\n",
    "for line in file3:\n",
    "    class_name = line.split('/')[-2]\n",
    "    vid = line.split('/')[-1].replace('\\n','')\n",
    "    seg_dict[class_name].append(vid)\n",
    "    #print(class_name,vid)\n",
    "    #print(class_name,vid)\n",
    "    #break"
   ]
  },
  {
   "cell_type": "code",
   "execution_count": null,
   "id": "piano-experiment",
   "metadata": {},
   "outputs": [],
   "source": [
    "todo_list = []"
   ]
  },
  {
   "cell_type": "code",
   "execution_count": 39,
   "id": "cosmetic-fellowship",
   "metadata": {},
   "outputs": [
    {
     "name": "stdout",
     "output_type": "stream",
     "text": [
      "1658\n"
     ]
    }
   ],
   "source": [
    "not_done=0\n",
    "file4 = open('/export/home/RSPNet/meta_data/no_seg_0813.txt','w')\n",
    "\n",
    "for x,ys in v_dict.items():\n",
    "    #print(x,ys)\n",
    "    for y in ys:\n",
    "        if y not in seg_dict[x]:\n",
    "            not_done+=1\n",
    "            file4.write(x+'|'+y+'\\n')\n",
    "            #print(x+'|'+y+'\\n')\n",
    "    #print(seg_dict[x])\n",
    "    #break\n",
    "print(not_done)"
   ]
  },
  {
   "cell_type": "code",
   "execution_count": 40,
   "id": "designed-shepherd",
   "metadata": {},
   "outputs": [],
   "source": [
    "import json\n",
    "with open('/export/home/RSPNet/meta_data_op/withSeg_train_split_0811.json') as f:\n",
    "    withSeg = json.load(f)"
   ]
  },
  {
   "cell_type": "code",
   "execution_count": 57,
   "id": "spectacular-night",
   "metadata": {},
   "outputs": [],
   "source": [
    "with open('/export/optical-flow/RSPNet/meta_data/withSeg_train_split_0812.json') as f:\n",
    "    withSeg_0812 = json.load(f)"
   ]
  },
  {
   "cell_type": "code",
   "execution_count": 58,
   "id": "prescription-chase",
   "metadata": {},
   "outputs": [
    {
     "name": "stdout",
     "output_type": "stream",
     "text": [
      "143786\n"
     ]
    }
   ],
   "source": [
    "print(len(withSeg_0812))"
   ]
  },
  {
   "cell_type": "code",
   "execution_count": 96,
   "id": "premier-hello",
   "metadata": {},
   "outputs": [],
   "source": [
    "with open('/export/home/RSPNet/meta_data_op/withSeg_train_split_0813.json') as f:\n",
    "    withSeg_0813 = json.load(f)"
   ]
  },
  {
   "cell_type": "code",
   "execution_count": 97,
   "id": "super-albert",
   "metadata": {},
   "outputs": [
    {
     "name": "stdout",
     "output_type": "stream",
     "text": [
      "145269\n"
     ]
    }
   ],
   "source": [
    "print(len(withSeg_0813))"
   ]
  },
  {
   "cell_type": "code",
   "execution_count": 59,
   "id": "smaller-shore",
   "metadata": {},
   "outputs": [],
   "source": [
    "\n",
    "with open('/export/home/RSPNet/meta_data_op/max_obj_train_split_0812.json') as f:\n",
    "    max_obj_0812 = json.load(f)"
   ]
  },
  {
   "cell_type": "code",
   "execution_count": 60,
   "id": "excited-hundred",
   "metadata": {},
   "outputs": [
    {
     "name": "stdout",
     "output_type": "stream",
     "text": [
      "145269\n"
     ]
    }
   ],
   "source": [
    "print(len(max_obj_0812))"
   ]
  },
  {
   "cell_type": "code",
   "execution_count": 67,
   "id": "academic-threshold",
   "metadata": {},
   "outputs": [],
   "source": [
    "#print(max_obj_0812.keys()-withSeg_0812.keys())\n",
    "file1.close()\n",
    "file1 = open('/export/home/RSPNet/meta_data_op/track_missing_0813.txt','w')\n",
    "for x in max_obj_0812.keys()-withSeg_0812.keys():\n",
    "    file1.write(x+'\\n')\n",
    "file1.close()\n"
   ]
  },
  {
   "cell_type": "code",
   "execution_count": 41,
   "id": "assisted-toolbox",
   "metadata": {},
   "outputs": [
    {
     "name": "stdout",
     "output_type": "stream",
     "text": [
      "8555\n"
     ]
    }
   ],
   "source": [
    "partial =0\n",
    "#file5 = open('/export/home/RSPNet/meta_data/partial_seg_0813.txt','w')\n",
    "\n",
    "for x,y in withSeg.items():\n",
    "    #print(x,y)\n",
    "    if len(y) <100:\n",
    "        partial+=1\n",
    "        #file4.write(x+'\\n')\n",
    "    #break\n",
    "print(partial)"
   ]
  },
  {
   "cell_type": "code",
   "execution_count": 100,
   "id": "packed-surfing",
   "metadata": {},
   "outputs": [
    {
     "name": "stdout",
     "output_type": "stream",
     "text": [
      "4735\n"
     ]
    }
   ],
   "source": [
    "partial =0\n",
    "#file5 = open('/export/home/RSPNet/meta_data/partial_seg_0813.txt','w')\n",
    "\n",
    "for x,y in withSeg_0813.items():\n",
    "    #print(x,y)\n",
    "    if len(y) <100:\n",
    "        partial+=1\n",
    "        #print(x,len(y))\n",
    "        #file4.write(x+'\\n')\n",
    "    #break\n",
    "print(partial)"
   ]
  },
  {
   "cell_type": "code",
   "execution_count": 64,
   "id": "quantitative-liverpool",
   "metadata": {},
   "outputs": [
    {
     "name": "stdout",
     "output_type": "stream",
     "text": [
      "5315\n"
     ]
    }
   ],
   "source": [
    "partial =0\n",
    "file5 = open('/export/home/RSPNet/meta_data/partial_seg_0813.txt','w')\n",
    "\n",
    "for x,y in withSeg_0812.items():\n",
    "    #print(x,y)\n",
    "    if len(y) <100:\n",
    "        partial+=1\n",
    "        #print(x,len(y))\n",
    "        file4.write(x+'\\n')\n",
    "    #break\n",
    "print(partial)"
   ]
  },
  {
   "cell_type": "code",
   "execution_count": null,
   "id": "accredited-contractor",
   "metadata": {},
   "outputs": [],
   "source": []
  },
  {
   "cell_type": "code",
   "execution_count": 42,
   "id": "waiting-article",
   "metadata": {},
   "outputs": [],
   "source": [
    "with open('/export/home/ExtremeNet/vgg_frame_new_count_train_split_our.json') as f:\n",
    "    frame_count = json.load(f)"
   ]
  },
  {
   "cell_type": "code",
   "execution_count": 94,
   "id": "informational-raise",
   "metadata": {},
   "outputs": [],
   "source": [
    "meta_C = {}\n",
    "file1 = open('/export/home/RSPNet/meta_data_op/train_split_meta_0813.csv')\n",
    "for line in file1:\n",
    "    #print(line)\n",
    "    f_count = line.split(',')[-1].replace('\\n','')\n",
    "    path = (',').join(line.split(',')[:-1]).replace('\"','')\n",
    "    #print(path)\n",
    "    vid = path.split('/')[-1]\n",
    "    class_name = path.split('/')[-2]\n",
    "    meta_C[class_name+'|'+vid] = int(f_count)"
   ]
  },
  {
   "cell_type": "code",
   "execution_count": 72,
   "id": "crucial-gather",
   "metadata": {},
   "outputs": [],
   "source": [
    "seg_C = {}\n",
    "file1 = open('/export/optical-flow/RSPNet/meta_data/train_split_seg.csv')\n",
    "for line in file1:\n",
    "    #print(line)\n",
    "    f_count = line.split(',')[-1].replace('\\n','')\n",
    "    path = (',').join(line.split(',')[:-1]).replace('\"','')\n",
    "    #print(path)\n",
    "    vid = path.split('/')[-1]\n",
    "    class_name = path.split('/')[-2]\n",
    "    seg_C[class_name+'|'+vid] = int(f_count)"
   ]
  },
  {
   "cell_type": "code",
   "execution_count": 44,
   "id": "clean-flour",
   "metadata": {},
   "outputs": [
    {
     "name": "stdout",
     "output_type": "stream",
     "text": [
      "146760\n"
     ]
    }
   ],
   "source": [
    "print(len(frame_count))"
   ]
  },
  {
   "cell_type": "code",
   "execution_count": 81,
   "id": "impaired-karen",
   "metadata": {},
   "outputs": [
    {
     "name": "stdout",
     "output_type": "stream",
     "text": [
      "0\n"
     ]
    }
   ],
   "source": [
    "print(len(seg_C.keys()-meta_C.keys()))"
   ]
  },
  {
   "cell_type": "code",
   "execution_count": 91,
   "id": "seeing-raleigh",
   "metadata": {},
   "outputs": [
    {
     "name": "stdout",
     "output_type": "stream",
     "text": [
      "145269\n"
     ]
    }
   ],
   "source": [
    "print(len(seg_C))"
   ]
  },
  {
   "cell_type": "code",
   "execution_count": 93,
   "id": "hindu-resort",
   "metadata": {},
   "outputs": [
    {
     "name": "stdout",
     "output_type": "stream",
     "text": [
      "142188\n"
     ]
    }
   ],
   "source": [
    "print(len(freq_obj))"
   ]
  },
  {
   "cell_type": "code",
   "execution_count": 92,
   "id": "respective-promotion",
   "metadata": {},
   "outputs": [],
   "source": [
    "split = 'train_split'#'test_split'#'train_split'\n",
    "with open('/export/optical-flow/RSPNet/meta_data/freq_obj_'+split+'.json') as f:\n",
    "    freq_obj = json.load(f)"
   ]
  },
  {
   "cell_type": "code",
   "execution_count": 104,
   "id": "understood-feedback",
   "metadata": {},
   "outputs": [
    {
     "name": "stdout",
     "output_type": "stream",
     "text": [
      "4743\n",
      "1491\n"
     ]
    }
   ],
   "source": [
    "not_done =0\n",
    "no_seg = 0\n",
    "file1 = open('/export/optical-flow/RSPNet/meta_data/black_list.txt','w')\n",
    "for x,y in frame_count.items():\n",
    "    class_n = x.split('|')[0]\n",
    "    vid = x.split('|')[1]\n",
    "    if x not in seg_C.keys():\n",
    "        #not_done+=1\n",
    "        #print(x)\n",
    "        \n",
    "        file1.write(\"'train_video/\"+class_n+'/'+vid+\".mp4',\\n\")\n",
    "        no_seg+=1\n",
    "    else:\n",
    "        #if meta_C[x]/float(y) <0.7 and meta_C[x]!=seg_C[x]:\n",
    "        if seg_C[x] <100:\n",
    "            not_done+=1\n",
    "            #print(x,meta_C[x],seg_C[x],y)\n",
    "            file1.write(\"'train_video/\"+class_n+'/'+vid+\".mp4',\\n\")\n",
    "file1.close()\n",
    "print(not_done)\n",
    "print(no_seg)"
   ]
  },
  {
   "cell_type": "code",
   "execution_count": null,
   "id": "incorrect-crash",
   "metadata": {},
   "outputs": [],
   "source": [
    "not_done =0\n",
    "no_seg = 0\n",
    "file1 = open('/export/optical-flow/RSPNet/meta_data/seg150.txt','w')\n",
    "for x,y in frame_count.items():\n",
    "    class_n = x.split('|')[0]\n",
    "    vid = x.split('|')[1]\n",
    "    if x not in seg_C.keys():\n",
    "        #not_done+=1\n",
    "        #print(x)\n",
    "        \n",
    "        #file1.write(\"'train_video/\"+class_n+'/'+vid+\".mp4',\\n\")\n",
    "        no_seg+=1\n",
    "    else:\n",
    "        #if meta_C[x]/float(y) <0.7 and meta_C[x]!=seg_C[x]:\n",
    "        if seg_C[x] >100 and seg_C[x] /float(y)<0.7 and y-seg_C[x]>3:\n",
    "            not_done+=1\n",
    "            print(x,meta_C[x],seg_C[x],y)\n",
    "            #file1.write(\"'train_video/\"+class_n+'/'+vid+\".mp4',\\n\")\n",
    "            file1.write(x+'\\n')\n",
    "file1.close()\n",
    "print(not_done)\n",
    "print(no_seg)"
   ]
  },
  {
   "cell_type": "code",
   "execution_count": 54,
   "id": "numerical-singles",
   "metadata": {},
   "outputs": [],
   "source": [
    "split = 'train_split'\n",
    "with open('/export/home/RSPNet/meta_data_op/max_obj_'+split+'_0812.json') as f:\n",
    "    max_obj = json.load(f)"
   ]
  },
  {
   "cell_type": "code",
   "execution_count": 55,
   "id": "north-kinase",
   "metadata": {},
   "outputs": [
    {
     "name": "stdout",
     "output_type": "stream",
     "text": [
      "145269\n"
     ]
    }
   ],
   "source": [
    "print(len(max_obj))"
   ]
  },
  {
   "cell_type": "code",
   "execution_count": 6,
   "id": "communist-boards",
   "metadata": {},
   "outputs": [
    {
     "ename": "FileNotFoundError",
     "evalue": "[Errno 2] No such file or directory: '/export/optical-flow/data/vgg_sal_test/airplane/kbs7SQMR1ek_000248/00182.png'",
     "output_type": "error",
     "traceback": [
      "\u001b[0;31m---------------------------------------------------------------------------\u001b[0m",
      "\u001b[0;31mFileNotFoundError\u001b[0m                         Traceback (most recent call last)",
      "\u001b[0;32m<ipython-input-6-b7bf364ee1eb>\u001b[0m in \u001b[0;36m<module>\u001b[0;34m\u001b[0m\n\u001b[1;32m      2\u001b[0m \u001b[0;32mfrom\u001b[0m \u001b[0mPIL\u001b[0m \u001b[0;32mimport\u001b[0m \u001b[0mImage\u001b[0m\u001b[0;34m\u001b[0m\u001b[0;34m\u001b[0m\u001b[0m\n\u001b[1;32m      3\u001b[0m \u001b[0mname\u001b[0m \u001b[0;34m=\u001b[0m \u001b[0;34m'/export/optical-flow/data/vgg_sal_test/airplane/kbs7SQMR1ek_000248/00182.png'\u001b[0m\u001b[0;34m\u001b[0m\u001b[0;34m\u001b[0m\u001b[0m\n\u001b[0;32m----> 4\u001b[0;31m \u001b[0mgt_mask\u001b[0m \u001b[0;34m=\u001b[0m \u001b[0mnp\u001b[0m\u001b[0;34m.\u001b[0m\u001b[0marray\u001b[0m\u001b[0;34m(\u001b[0m\u001b[0mImage\u001b[0m\u001b[0;34m.\u001b[0m\u001b[0mopen\u001b[0m\u001b[0;34m(\u001b[0m\u001b[0mname\u001b[0m\u001b[0;34m)\u001b[0m\u001b[0;34m.\u001b[0m\u001b[0mconvert\u001b[0m\u001b[0;34m(\u001b[0m\u001b[0;34m'L'\u001b[0m\u001b[0;34m)\u001b[0m\u001b[0;34m)\u001b[0m\u001b[0;34m\u001b[0m\u001b[0;34m\u001b[0m\u001b[0m\n\u001b[0m",
      "\u001b[0;32m/opt/conda/lib/python3.8/site-packages/PIL/Image.py\u001b[0m in \u001b[0;36mopen\u001b[0;34m(fp, mode, formats)\u001b[0m\n\u001b[1;32m   2966\u001b[0m \u001b[0;34m\u001b[0m\u001b[0m\n\u001b[1;32m   2967\u001b[0m     \u001b[0;32mif\u001b[0m \u001b[0mfilename\u001b[0m\u001b[0;34m:\u001b[0m\u001b[0;34m\u001b[0m\u001b[0;34m\u001b[0m\u001b[0m\n\u001b[0;32m-> 2968\u001b[0;31m         \u001b[0mfp\u001b[0m \u001b[0;34m=\u001b[0m \u001b[0mbuiltins\u001b[0m\u001b[0;34m.\u001b[0m\u001b[0mopen\u001b[0m\u001b[0;34m(\u001b[0m\u001b[0mfilename\u001b[0m\u001b[0;34m,\u001b[0m \u001b[0;34m\"rb\"\u001b[0m\u001b[0;34m)\u001b[0m\u001b[0;34m\u001b[0m\u001b[0;34m\u001b[0m\u001b[0m\n\u001b[0m\u001b[1;32m   2969\u001b[0m         \u001b[0mexclusive_fp\u001b[0m \u001b[0;34m=\u001b[0m \u001b[0;32mTrue\u001b[0m\u001b[0;34m\u001b[0m\u001b[0;34m\u001b[0m\u001b[0m\n\u001b[1;32m   2970\u001b[0m \u001b[0;34m\u001b[0m\u001b[0m\n",
      "\u001b[0;31mFileNotFoundError\u001b[0m: [Errno 2] No such file or directory: '/export/optical-flow/data/vgg_sal_test/airplane/kbs7SQMR1ek_000248/00182.png'"
     ]
    }
   ],
   "source": [
    "import numpy as np\n",
    "from PIL import Image\n",
    "name = '/export/optical-flow/data/vgg_sal_test/airplane/kbs7SQMR1ek_000248/00182.png'\n",
    "\n",
    "gt_mask = np.array(Image.open(name).convert('L'))\n"
   ]
  },
  {
   "cell_type": "code",
   "execution_count": 2,
   "id": "juvenile-exhaust",
   "metadata": {},
   "outputs": [],
   "source": [
    "import json\n",
    "with open('/export/home/ExtremeNet/vgg_frame_new_count_train_split_our.json') as f:\n",
    "    frame_c_train = json.load(f)"
   ]
  },
  {
   "cell_type": "code",
   "execution_count": 6,
   "id": "answering-roller",
   "metadata": {},
   "outputs": [
    {
     "name": "stdout",
     "output_type": "stream",
     "text": [
      "309\n"
     ]
    }
   ],
   "source": [
    "\n",
    "from collections import defaultdict\n",
    "class2vid = defaultdict(list)\n",
    "for n in frame_c_train.keys():\n",
    "    class_name = n.split('|')[0]\n",
    "    vid = n.split('|')[1]\n",
    "    #print(class_name,vid)\n",
    "    class2vid[class_name].append(vid)\n",
    "    #break\n",
    "print(len(class2vid))"
   ]
  },
  {
   "cell_type": "code",
   "execution_count": 8,
   "id": "freelance-course",
   "metadata": {},
   "outputs": [],
   "source": [
    "with open('/export/optical-flow/RSPNet/meta_data/class2vid.json', 'w') as outfile:\n",
    "    json.dump(class2vid, outfile)"
   ]
  },
  {
   "cell_type": "code",
   "execution_count": null,
   "id": "historical-appearance",
   "metadata": {},
   "outputs": [],
   "source": [
    "file1 = open('/export/home/DeepUSPS/v2/Code/meta/img_train.txt','w')\n",
    "for name in glob('/export/home/DeepUSPS/v2/img_train/*'):\n",
    "    file1.write(name+'\\n')\n",
    "file1.close()"
   ]
  }
 ],
 "metadata": {
  "kernelspec": {
   "display_name": "Python 3",
   "language": "python",
   "name": "python3"
  },
  "language_info": {
   "codemirror_mode": {
    "name": "ipython",
    "version": 3
   },
   "file_extension": ".py",
   "mimetype": "text/x-python",
   "name": "python",
   "nbconvert_exporter": "python",
   "pygments_lexer": "ipython3",
   "version": "3.8.5"
  }
 },
 "nbformat": 4,
 "nbformat_minor": 5
}
