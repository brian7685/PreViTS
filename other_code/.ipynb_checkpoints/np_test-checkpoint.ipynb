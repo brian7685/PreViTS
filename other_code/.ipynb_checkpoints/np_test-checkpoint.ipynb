{
 "cells": [
  {
   "cell_type": "code",
   "execution_count": 1,
   "id": "universal-request",
   "metadata": {},
   "outputs": [],
   "source": [
    "import numpy as np"
   ]
  },
  {
   "cell_type": "code",
   "execution_count": null,
   "id": "hairy-freeware",
   "metadata": {},
   "outputs": [],
   "source": [
    "frame_length =32\n",
    "key_mask = np.zeros((224,224))"
   ]
  },
  {
   "cell_type": "code",
   "execution_count": null,
   "id": "raising-scheduling",
   "metadata": {},
   "outputs": [],
   "source": [
    "key_mask_array  = np.repeat(key_mask[np.newaxis,:,:],frame_length, axis=0)"
   ]
  }
 ],
 "metadata": {
  "kernelspec": {
   "display_name": "Python 3",
   "language": "python",
   "name": "python3"
  },
  "language_info": {
   "codemirror_mode": {
    "name": "ipython",
    "version": 3
   },
   "file_extension": ".py",
   "mimetype": "text/x-python",
   "name": "python",
   "nbconvert_exporter": "python",
   "pygments_lexer": "ipython3",
   "version": "3.8.5"
  }
 },
 "nbformat": 4,
 "nbformat_minor": 5
}
